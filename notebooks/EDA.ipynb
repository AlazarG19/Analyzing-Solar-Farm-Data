{
 "cells": [
  {
   "cell_type": "markdown",
   "metadata": {},
   "source": [
    "# Exploratory Data Analysis (EDA)"
   ]
  },
  {
   "cell_type": "markdown",
   "metadata": {},
   "source": [
    "## Importing and Cleaning the Dataset"
   ]
  },
  {
   "cell_type": "markdown",
   "metadata": {},
   "source": [
    "This section aims to revel trends and patterns of our data inorder to gain a deeper understanding. Using the insights we gain here, we can further extract various information on our next section."
   ]
  },
  {
   "cell_type": "markdown",
   "metadata": {},
   "source": [
    "## Tools\n",
    "\n",
    "I'll be using the library pandas, pyplot and seaborn to facilitate in data manipulation and performing initial assessment of the dataset's strucutre\n"
   ]
  },
  {
   "cell_type": "markdown",
   "metadata": {},
   "source": [
    "## Approach\n",
    "\n",
    "### Preparing Our Data"
   ]
  },
  {
   "cell_type": "markdown",
   "metadata": {},
   "source": [
    "#### Analyzing and Importing our data\n"
   ]
  },
  {
   "cell_type": "code",
   "execution_count": null,
   "metadata": {},
   "outputs": [],
   "source": [
    "import pandas as pd\n",
    "import numpy as np\n",
    "import os\n",
    "import matplotlib.pyplot as plt"
   ]
  },
  {
   "cell_type": "code",
   "execution_count": 33,
   "metadata": {},
   "outputs": [],
   "source": [
    "def extract_file_names(folder_path):\n",
    "    # List all files in the folder\n",
    "    files = os.listdir(folder_path)\n",
    "\n",
    "    # Filter and get only files (excluding directories)\n",
    "    file_names = [f for f in files if os.path.isfile(os.path.join(folder_path, f))]\n",
    "\n",
    "    return file_names"
   ]
  },
  {
   "cell_type": "code",
   "execution_count": null,
   "metadata": {},
   "outputs": [],
   "source": [
    "filelist = {}\n",
    "for file in extract_file_names(\"../data\"):\n",
    "    filelist[file] = pd.read_csv(\"../data/{}\".format(file),encoding=\"latin1\")"
   ]
  },
  {
   "cell_type": "code",
   "execution_count": null,
   "metadata": {},
   "outputs": [],
   "source": [
    "for file in filelist:\n",
    "    print(file)\n",
    "    print(filelist[file].columns)"
   ]
  },
  {
   "cell_type": "code",
   "execution_count": null,
   "metadata": {},
   "outputs": [],
   "source": [
    "for file in filelist:\n",
    "    print(file)\n",
    "    print(filelist[file].shape)"
   ]
  },
  {
   "cell_type": "markdown",
   "metadata": {},
   "source": [
    "Let's continue by performing various Univariate analysis in order to gain a deeper understanding of the data"
   ]
  },
  {
   "cell_type": "code",
   "execution_count": null,
   "metadata": {},
   "outputs": [],
   "source": [
    "for file in filelist:\n",
    "    print(file)\n",
    "    print(filelist[file].dtypes)"
   ]
  },
  {
   "cell_type": "markdown",
   "metadata": {},
   "source": [
    "Even though most of it is object we can see that the first row is the unit row so we remove that for more accuracy"
   ]
  },
  {
   "cell_type": "code",
   "execution_count": 38,
   "metadata": {},
   "outputs": [],
   "source": [
    "for file in filelist:\n",
    "    filelist[file] = filelist[file].drop(0)\n",
    "    filelist[file] = filelist[file].reset_index(drop=True)\n",
    "\n",
    "    "
   ]
  },
  {
   "cell_type": "markdown",
   "metadata": {},
   "source": [
    "Let's change the type to float for better analysis for columns [\"GHI\",\"DNI\",\"DHI\",\"ModA\",\"ModB\",\"WS\", \"WSgust\"]"
   ]
  },
  {
   "cell_type": "code",
   "execution_count": 39,
   "metadata": {},
   "outputs": [],
   "source": [
    "for file in filelist:\n",
    "    filelist[file][[\"GHI\",\"DNI\",\"DHI\",\"ModA\",\"ModB\",\"WS\", \"WSgust\"]] = filelist[file][[\"GHI\",\"DNI\",\"DHI\",\"ModA\",\"ModB\",\"WS\", \"WSgust\"]].astype(float)"
   ]
  },
  {
   "cell_type": "code",
   "execution_count": null,
   "metadata": {},
   "outputs": [],
   "source": [
    "for file in filelist:\n",
    "    print(file)\n",
    "    print(filelist[file].head(5))"
   ]
  },
  {
   "cell_type": "markdown",
   "metadata": {},
   "source": [
    "In order to solve this issue let's first clean the data "
   ]
  },
  {
   "cell_type": "markdown",
   "metadata": {},
   "source": [
    "Let's begin by checking for duplicated values"
   ]
  },
  {
   "cell_type": "code",
   "execution_count": null,
   "metadata": {},
   "outputs": [],
   "source": [
    "for file in filelist:\n",
    "    print(file)\n",
    "    print(\"Count of duplicated values in {} \\n\".format(file))\n",
    "    print(filelist[file].duplicated().sum())\n"
   ]
  },
  {
   "cell_type": "code",
   "execution_count": null,
   "metadata": {},
   "outputs": [],
   "source": [
    "for file in filelist:\n",
    "    print(file)\n",
    "    print(\"Count of null values in {} \\n\".format(file))\n",
    "    print(filelist[file].isnull().sum())\n"
   ]
  },
  {
   "cell_type": "markdown",
   "metadata": {},
   "source": [
    "Let's begin by removing the comment column since it contains most of the null values"
   ]
  },
  {
   "cell_type": "code",
   "execution_count": 43,
   "metadata": {},
   "outputs": [],
   "source": [
    "for file in filelist:\n",
    "    filelist[file].drop(columns=\"Comments\",inplace=True)\n"
   ]
  },
  {
   "cell_type": "markdown",
   "metadata": {},
   "source": [
    "First Thing we need to fix is that Columns like GHI, DNI and DHI are positive so we need to change the value"
   ]
  },
  {
   "cell_type": "code",
   "execution_count": null,
   "metadata": {},
   "outputs": [],
   "source": [
    "filelist.keys()"
   ]
  },
  {
   "cell_type": "code",
   "execution_count": 45,
   "metadata": {},
   "outputs": [],
   "source": [
    "for file in filelist:\n",
    "    filelist[file][[\"GHI\",\"DNI\",\"DHI\"]] = filelist[file][[\"GHI\",\"DNI\",\"DHI\"]].abs()\n"
   ]
  },
  {
   "cell_type": "markdown",
   "metadata": {},
   "source": [
    "Next let's examine how much of the data is outlier"
   ]
  },
  {
   "cell_type": "code",
   "execution_count": 59,
   "metadata": {},
   "outputs": [
    {
     "name": "stdout",
     "output_type": "stream",
     "text": [
      "solar-measurements_benin-malanville_qc.csv\n",
      "ModA\n",
      "Number of Outliers: 98\n",
      "ModB\n",
      "Number of Outliers: 240\n",
      "WS\n",
      "Number of Outliers: 6717\n",
      "WSgust\n",
      "Number of Outliers: 5368\n",
      "solar-measurements_benin-parakou_qc.csv\n",
      "ModA\n",
      "Number of Outliers: 9688\n",
      "ModB\n",
      "Number of Outliers: 9423\n",
      "WS\n",
      "Number of Outliers: 3578\n",
      "WSgust\n",
      "Number of Outliers: 3506\n",
      "solar-measurements_sierraleone-bumbuna_qc.csv\n",
      "ModA\n",
      "Number of Outliers: 21017\n",
      "ModB\n",
      "Number of Outliers: 20613\n",
      "WS\n",
      "Number of Outliers: 3169\n",
      "WSgust\n",
      "Number of Outliers: 3665\n",
      "solar-measurements_sierraleone-kenema_qc.csv\n",
      "ModA\n",
      "Number of Outliers: 32869\n",
      "ModB\n",
      "Number of Outliers: 32228\n",
      "WS\n",
      "Number of Outliers: 7603\n",
      "WSgust\n",
      "Number of Outliers: 3778\n",
      "solar-measurements_togo-dapaong_qc.csv\n",
      "ModA\n",
      "Number of Outliers: 1237\n",
      "ModB\n",
      "Number of Outliers: 1537\n",
      "WS\n",
      "Number of Outliers: 8708\n",
      "WSgust\n",
      "Number of Outliers: 7377\n",
      "solar-measurements_togo-davie_qc.csv\n",
      "ModA\n",
      "Number of Outliers: 32688\n",
      "ModB\n",
      "Number of Outliers: 31063\n",
      "WS\n",
      "Number of Outliers: 3348\n",
      "WSgust\n",
      "Number of Outliers: 3986\n"
     ]
    }
   ],
   "source": [
    "for file in filelist:\n",
    "    print(file)\n",
    "    for column in [\"ModA\",\"ModB\",\"WS\", \"WSgust\"]:\n",
    "        print(column)\n",
    "        filelist[file][column] = filelist[file][column].abs()\n",
    "        # Calculate Q1 (25th percentile) and Q3 (75th percentile)\n",
    "        Q1 = filelist[file][column].quantile(0.25)\n",
    "        Q3 = filelist[file][column].quantile(0.75)\n",
    "\n",
    "        # Calculate IQR\n",
    "        IQR = Q3 - Q1\n",
    "\n",
    "        # Define the bounds for outliers\n",
    "        lower_bound = Q1 - 1.5 * IQR\n",
    "        upper_bound = Q3 + 1.5 * IQR\n",
    "\n",
    "        # Identify outliers\n",
    "        outliers = filelist[file][column][(filelist[file][column] < lower_bound) | (filelist[file][column] > upper_bound)]\n",
    "\n",
    "        print(\"Number of Outliers:\",outliers.count())\n"
   ]
  }
 ],
 "metadata": {
  "kernelspec": {
   "display_name": "Python 3",
   "language": "python",
   "name": "python3"
  },
  "language_info": {
   "codemirror_mode": {
    "name": "ipython",
    "version": 3
   },
   "file_extension": ".py",
   "mimetype": "text/x-python",
   "name": "python",
   "nbconvert_exporter": "python",
   "pygments_lexer": "ipython3",
   "version": "3.13.0"
  }
 },
 "nbformat": 4,
 "nbformat_minor": 2
}
